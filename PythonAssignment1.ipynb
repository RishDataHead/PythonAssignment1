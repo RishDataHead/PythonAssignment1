{
 "cells": [
  {
   "cell_type": "markdown",
   "metadata": {},
   "source": [
    "# Q1. Why do we call Python as a general purpose and high-level programming language?\n"
   ]
  },
  {
   "cell_type": "raw",
   "metadata": {},
   "source": [
    "Python is considered a general-purpose language because it can be used for a wide range of applications.\n",
    "\n",
    "It is called a high-level language because it abstracts away low-level details and provides a simplified syntax.\n",
    "\n",
    "Python's syntax is readable and resembles natural language, making it easy to understand and maintain.\n",
    "\n",
    "The language emphasizes code readability, simplicity, and conciseness.\n",
    "\n",
    "Python has a vast ecosystem of libraries and frameworks, covering various domains, which extend its capabilities.\n",
    "\n",
    "It is a cross-platform language, allowing programs to run on different operating systems without major modifications.\n",
    "\n",
    "These characteristics make Python a popular choice for a diverse set of applications, making it a general-purpose and high-level programming language."
   ]
  },
  {
   "cell_type": "markdown",
   "metadata": {},
   "source": [
    "# Q2. Why is Python called a dynamically typed language?"
   ]
  },
  {
   "cell_type": "markdown",
   "metadata": {},
   "source": [
    "Python does not require explicit type declarations for variables. For example x = 5 , x= \"Hello\"\n",
    "The type of a variable is determined dynamically based on the value assigned to it.\n",
    "Variables can hold values of different types during runtime.\n",
    "Python uses type inference to determine the type of a variable based on its assigned value.\n"
   ]
  },
  {
   "cell_type": "markdown",
   "metadata": {},
   "source": [
    "# Q3. List some pros and cons of Python programming language?"
   ]
  },
  {
   "cell_type": "markdown",
   "metadata": {},
   "source": [
    "Pros:\n",
    "\n",
    "Readability: Python has a clean and readable syntax, making it easier to write and understand code.\n",
    "Large Standard Library: Python comes with a comprehensive standard library, providing a wide range of modules and functions that can be used for various tasks without the need for external dependencies.\n",
    "Vast Ecosystem: Python has a rich ecosystem of third-party libraries and frameworks that cover a wide range of domains, enabling developers to leverage existing solutions and accelerate development.\n",
    "Easy Integration: Python allows seamless integration with other languages such as C/C++, Java, and .NET, making it suitable for building large-scale applications that require different components.\n",
    "Rapid Development: Python's simplicity and productivity-focused features, such as dynamic typing and automatic memory management, contribute to faster development cycles.\n",
    "Cross-Platform Compatibility: Python is available on multiple platforms, allowing developers to write code once and deploy it on different operating systems.\n",
    "\n",
    "Cons:\n",
    "\n",
    "Performance: Python is an interpreted language, which can make it slower compared to compiled languages like C or C++. However, performance-critical sections of code can be optimized using compiled extensions or by utilizing specialized libraries.\n",
    "Global Interpreter Lock (GIL): The GIL in CPython (the reference implementation of Python) can limit the execution of threads in parallel, which can impact the performance of CPU-bound multi-threaded applications. However, Python offers solutions such as multiprocessing and asynchronous programming to overcome this limitation.\n",
    "Mobile Development: While Python can be used for mobile app development, it is not as widely adopted as languages like Java or Swift in the mobile development space.\n",
    "Design Restrictions: Python's emphasis on readability and simplicity can lead to design restrictions and less control over low-level details compared to lower-level languages.\n",
    "Version Compatibility: The transition from Python 2 to Python 3 introduced some backward-incompatible changes, resulting in a split between the two versions. This can lead to compatibility issues when working with legacy code or libraries."
   ]
  },
  {
   "cell_type": "markdown",
   "metadata": {},
   "source": [
    "# Q4. In what all domains can we use Python?"
   ]
  },
  {
   "cell_type": "markdown",
   "metadata": {},
   "source": [
    "Python can be used in various domains, including:\n",
    "\n",
    "Web development\n",
    "Data analysis and visualization\n",
    "Scientific computing\n",
    "Machine learning and artificial intelligence\n",
    "Automation and scripting\n",
    "Game development\n",
    "Network programming and cybersecurity\n",
    "DevOps and system administration\n",
    "Natural language processing\n",
    "Robotics"
   ]
  },
  {
   "cell_type": "markdown",
   "metadata": {},
   "source": [
    "# Q5. What are variable and how can we declare them?"
   ]
  },
  {
   "cell_type": "markdown",
   "metadata": {},
   "source": [
    "A variable is a named storage location in a programming language that holds a value. It allows us to store and manipulate data during the execution of a program. In Python, variables can be declared and assigned values using the following syntax:\n",
    "\n",
    "x = 5 \n",
    " \n",
    "Declares a variable x with a value of 5 assigned to it"
   ]
  },
  {
   "cell_type": "markdown",
   "metadata": {},
   "source": [
    "# Q6. How can we take an input from the user in Python?"
   ]
  },
  {
   "cell_type": "code",
   "execution_count": 1,
   "metadata": {},
   "outputs": [
    {
     "name": "stdout",
     "output_type": "stream",
     "text": [
      "give input anything\n"
     ]
    }
   ],
   "source": [
    "#Input can be taken by using the input function in python.\n",
    "\n",
    "x = input(\"give input\")\n",
    "\n",
    "#any contrainst of variable type can also be applied here for example int(input) or float(input) etc"
   ]
  },
  {
   "cell_type": "markdown",
   "metadata": {},
   "source": [
    "# Q7. What is the default datatype of the value that has been taken as an input using input() function?"
   ]
  },
  {
   "cell_type": "markdown",
   "metadata": {},
   "source": [
    "The default datatype is String"
   ]
  },
  {
   "cell_type": "markdown",
   "metadata": {},
   "source": [
    "# Q8. What is type casting?"
   ]
  },
  {
   "cell_type": "markdown",
   "metadata": {},
   "source": [
    "Typecasting in Python refers to the process of converting the data type of a variable from one type to another. It allows you to change the interpretation or representation of the data.\n",
    "\n",
    "For example, you can convert an integer to a floating-point number, a string to an integer, or vice versa. Python provides built-in functions for typecasting, such as int(), float(), str(), bool(), and more.\n",
    "\n",
    "Typecasting is useful when you need to perform operations that require compatible data types or when you want to manipulate and represent data in a different format."
   ]
  },
  {
   "cell_type": "markdown",
   "metadata": {},
   "source": [
    "# Q9. Can we take more than one input from the user using single input() function? If yes, how? If no, why?"
   ]
  },
  {
   "cell_type": "markdown",
   "metadata": {},
   "source": [
    "No, the built-in input() function in Python allows you to take only a single input from the user at a time. It reads the input as a string until the user presses the Enter key."
   ]
  },
  {
   "cell_type": "markdown",
   "metadata": {},
   "source": [
    "# Q10. What are keywords?"
   ]
  },
  {
   "cell_type": "markdown",
   "metadata": {},
   "source": [
    "Keywords, also known as reserved words, are predefined words in a programming language that have special meanings and purposes. These words are reserved and cannot be used as identifiers (variable names, function names, etc.) because they are already assigned a specific meaning and functionality by the language itself.\n",
    "\n",
    "In Python, keywords are used to define the syntax and structure of the language and represent fundamental building blocks. They are used to declare control structures, define functions, handle exceptions, and perform other essential operations.\n",
    "\n",
    "Here are some examples of Python keywords:\n",
    "\n",
    "if, else, elif: Used for conditional statements\n",
    "for, while: Used for loop iterations\n",
    "def: Used to define functions\n",
    "try, except, finally: Used for exception handling\n",
    "import, from, as: Used for importing modules and packages\n",
    "return: Used to specify the return value of a function\n",
    "class: Used to define classes\n",
    "and, or, not: Used for logical operations\n",
    "True, False, None: Used for boolean and null values\n",
    "Python provides a fixed set of keywords, and their usage is predefined by the language. It's important to avoid using keywords as identifiers in your code to prevent conflicts and syntax errors."
   ]
  },
  {
   "cell_type": "markdown",
   "metadata": {},
   "source": [
    "# Q11. Can we use keywords as a variable? Support your answer with reason."
   ]
  },
  {
   "cell_type": "markdown",
   "metadata": {},
   "source": [
    "No, keywords cannot be used as variables in Python. Keywords are reserved by the language and have predefined meanings and functionality. They serve as building blocks and control structures in Python syntax.\n",
    "\n",
    "Attempting to use a keyword as a variable will result in a syntax error because the language expects certain behavior or functionality associated with keywords, and using them as variables would violate this expectation."
   ]
  },
  {
   "cell_type": "markdown",
   "metadata": {},
   "source": [
    "# Q12. What is indentation? What's the use of indentation in Python?"
   ]
  },
  {
   "cell_type": "markdown",
   "metadata": {},
   "source": [
    "Indentation refers to the whitespace (spaces or tabs) placed at the beginning of a line of code to indicate its level of indentation within a block or scope. In Python, indentation is not merely a matter of style; it is a fundamental aspect of the language's syntax and structure.\n",
    "The use of indentation in Python serves two main purposes:\n",
    "\n",
    "Code Block Delimiters: Indentation is used to define the beginning and end of code blocks, such as loops, conditional statements, and function definitions. It specifies the group of statements that belong together and should be executed as a unit. Blocks of code at the same level of indentation are considered part of the same block.\n",
    "\n",
    "Readability and Structure: Indentation improves the readability and structure of the code. By enforcing consistent and meaningful indentation, Python promotes code that is easier to understand, follow, and debug. Indentation helps in visualizing the hierarchical structure of the code and enhances code readability, especially for nested blocks."
   ]
  },
  {
   "cell_type": "markdown",
   "metadata": {},
   "source": [
    "# Q13. How can we throw some output in Python?"
   ]
  },
  {
   "cell_type": "markdown",
   "metadata": {},
   "source": [
    "We can get output in python by using the Print keyword.\n",
    "\n",
    "For example : Print(\"hello world\") will give output as\n",
    "hello world"
   ]
  },
  {
   "cell_type": "markdown",
   "metadata": {},
   "source": [
    "# Q14. What are operators in Python?"
   ]
  },
  {
   "cell_type": "markdown",
   "metadata": {},
   "source": [
    "In Python, operators are special symbols or characters that represent specific operations to manipulate or operate on operands (variables, values, or expressions). Operators allow you to perform various computations, comparisons, assignments, and logical operations in your code.\n",
    "\n",
    "Here are the main types of operators in Python:\n",
    "\n",
    "Arithmetic Operators: Perform mathematical calculations.\n",
    "\n",
    "Addition: +\n",
    "Subtraction: -\n",
    "Multiplication: *\n",
    "Division: /\n",
    "Floor Division: //\n",
    "Modulo: %\n",
    "Exponentiation: **\n",
    "Comparison Operators: Compare the values of operands.\n",
    "\n",
    "Equal to: ==\n",
    "Not equal to: !=\n",
    "Greater than: >\n",
    "Less than: <\n",
    "Greater than or equal to: >=\n",
    "Less than or equal to: <=\n",
    "Assignment Operators: Assign values to variables.\n",
    "\n",
    "Assignment: =\n",
    "Addition assignment: +=\n",
    "Subtraction assignment: -=\n",
    "Multiplication assignment: *=\n",
    "Division assignment: /=\n",
    "Modulo assignment: %=\n",
    "Exponentiation assignment: **=\n",
    "Floor division assignment: //=\n",
    "Logical Operators: Perform logical operations on boolean values.\n",
    "\n",
    "Logical AND: and\n",
    "Logical OR: or\n",
    "Logical NOT: not\n",
    "Bitwise Operators: Perform operations on binary representations of integers.\n",
    "\n",
    "Bitwise AND: &\n",
    "Bitwise OR: |\n",
    "Bitwise XOR: ^\n",
    "Bitwise NOT: ~\n",
    "Left shift: <<\n",
    "Right shift: >>\n",
    "Membership Operators: Check for membership in a sequence.\n",
    "\n",
    "in: Returns True if a value is found in a sequence.\n",
    "not in: Returns True if a value is not found in a sequence.\n",
    "Identity Operators: Compare the identity of objects.\n",
    "\n",
    "is: Returns True if two objects have the same identity.\n",
    "is not: Returns True if two objects have different identities.\n",
    "These are some of the commonly used operators in Python. Understanding and utilizing operators allows you to perform a wide range of operations and computations in your programs."
   ]
  },
  {
   "cell_type": "markdown",
   "metadata": {},
   "source": [
    "# Q15. What is difference between / and // operators?# "
   ]
  },
  {
   "cell_type": "markdown",
   "metadata": {},
   "source": [
    "/ performs normal division and always returns a floating-point result.\n",
    "// performs floor division and returns an integer result if both operands are integers.\n",
    "The // operator disregards the decimal part and rounds down to the nearest integer.\n",
    "It's important to consider the desired outcome and the data types of the operands when choosing between / and // for division operations in Python."
   ]
  },
  {
   "cell_type": "markdown",
   "metadata": {},
   "source": [
    "# Q16. Write a code that gives following as an output.\n",
    "iNeuroniNeuroniNeuroniNeuron"
   ]
  },
  {
   "cell_type": "code",
   "execution_count": 2,
   "metadata": {},
   "outputs": [
    {
     "name": "stdout",
     "output_type": "stream",
     "text": [
      "iNeuroniNeuroniNeuroniNeuron\n"
     ]
    }
   ],
   "source": [
    "print(\"iNeuroniNeuroniNeuroniNeuron\")"
   ]
  },
  {
   "cell_type": "markdown",
   "metadata": {},
   "source": [
    "# Q17. Write a code to take a number as an input from the user and check if the number is odd or even."
   ]
  },
  {
   "cell_type": "code",
   "execution_count": 5,
   "metadata": {},
   "outputs": [
    {
     "name": "stdout",
     "output_type": "stream",
     "text": [
      "Give number to check6\n",
      "Even number\n"
     ]
    }
   ],
   "source": [
    "num = int(input(\"Give number to check\"))\n",
    "if num%2 == 0:\n",
    "    print(\"Even number\")\n",
    "else:\n",
    "    print(\"Odd numer\")"
   ]
  },
  {
   "cell_type": "markdown",
   "metadata": {},
   "source": [
    "# Q18. What are boolean operator?"
   ]
  },
  {
   "cell_type": "markdown",
   "metadata": {},
   "source": [
    "    Boolean operators in Python are used to perform logical operations on Boolean values (True or False) or expressions. Python provides three main Boolean operators:\n",
    "\n",
    "Logical AND (and): Returns True if both operands are True, otherwise False.\n",
    "\n",
    "Example: True and True returns True, True and False returns False.\n",
    "Logical OR (or): Returns True if at least one of the operands is True, otherwise False.\n",
    "\n",
    "Example: True or False returns True, False or False returns False.\n",
    "Logical NOT (not): Returns the opposite of the operand's Boolean value. If the operand is True, not returns False. If the operand is False, not returns True.\n",
    "\n",
    "Example: not True returns False, not False returns True.\n",
    "These Boolean operators can be used to combine and evaluate Boolean expressions, control the flow of conditional statements, and perform logical operations in Python programs.\n",
    "\n",
    "Additionally, Python also allows the use of bitwise operators (&, |, ^, ~) that can operate on the binary representations of integers but can also be used as boolean operators when applied to boolean values or expressions. However, their behavior is slightly different from the logical operators mentioned above."
   ]
  },
  {
   "cell_type": "markdown",
   "metadata": {},
   "source": [
    "# Q19. What will the output of the following?\n",
    "1 or 0\n",
    "\n",
    "0 and 0\n",
    "\n",
    "True and False and True\n",
    "\n",
    "1 or 0 or 0\n",
    "```"
   ]
  },
  {
   "cell_type": "code",
   "execution_count": 7,
   "metadata": {},
   "outputs": [
    {
     "data": {
      "text/plain": [
       "1"
      ]
     },
     "execution_count": 7,
     "metadata": {},
     "output_type": "execute_result"
    }
   ],
   "source": [
    "1 or 0\n"
   ]
  },
  {
   "cell_type": "code",
   "execution_count": 8,
   "metadata": {},
   "outputs": [
    {
     "data": {
      "text/plain": [
       "0"
      ]
     },
     "execution_count": 8,
     "metadata": {},
     "output_type": "execute_result"
    }
   ],
   "source": [
    "0 and 0"
   ]
  },
  {
   "cell_type": "code",
   "execution_count": 9,
   "metadata": {},
   "outputs": [
    {
     "data": {
      "text/plain": [
       "False"
      ]
     },
     "execution_count": 9,
     "metadata": {},
     "output_type": "execute_result"
    }
   ],
   "source": [
    "True and False and True"
   ]
  },
  {
   "cell_type": "code",
   "execution_count": 10,
   "metadata": {},
   "outputs": [
    {
     "data": {
      "text/plain": [
       "1"
      ]
     },
     "execution_count": 10,
     "metadata": {},
     "output_type": "execute_result"
    }
   ],
   "source": [
    "1 or 0 or 0"
   ]
  },
  {
   "cell_type": "markdown",
   "metadata": {},
   "source": [
    "# Q20. What are conditional statements in Python?"
   ]
  },
  {
   "cell_type": "markdown",
   "metadata": {},
   "source": [
    "Conditional statements in Python are control structures that allow you to execute different blocks of code based on certain conditions. They help in controlling the flow of the program by making decisions based on the truth or falsehood of specific expressions. The main conditional statements in Python are:\n",
    "\n",
    "if statement: Executes a block of code if a condition is true.\n",
    "else statement: Provides an alternative block of code to execute if the preceding if condition is false.\n",
    "elif statement: Allows you to specify additional conditions to check if the preceding if condition is false."
   ]
  },
  {
   "cell_type": "markdown",
   "metadata": {},
   "source": [
    "# Q21. What is use of 'if', 'elif' and 'else' keywords?"
   ]
  },
  {
   "cell_type": "markdown",
   "metadata": {},
   "source": [
    "if statement: Executes a block of code if a condition is true.\n",
    "else statement: Provides an alternative block of code to execute if the preceding if condition is false.\n",
    "elif statement: Allows you to specify additional conditions to check if the preceding if condition is false."
   ]
  },
  {
   "cell_type": "markdown",
   "metadata": {},
   "source": [
    "# Q22. Write a code to take the age of person as an input and if age >= 18 display \"I can vote\". If age is < 18 display \"I can't vote\"."
   ]
  },
  {
   "cell_type": "code",
   "execution_count": 12,
   "metadata": {},
   "outputs": [
    {
     "name": "stdout",
     "output_type": "stream",
     "text": [
      "Enter age to check7\n",
      "I can't vote\n"
     ]
    }
   ],
   "source": [
    "age = int(input(\"Enter age to check\"))\n",
    "if age >= 18:\n",
    "    print(\"I can vote\")\n",
    "else:\n",
    "    print(\"I can't vote\")"
   ]
  },
  {
   "cell_type": "markdown",
   "metadata": {},
   "source": [
    "# Q23. Write a code that displays the sum of all the even numbers from the given list."
   ]
  },
  {
   "cell_type": "code",
   "execution_count": 23,
   "metadata": {},
   "outputs": [
    {
     "name": "stdout",
     "output_type": "stream",
     "text": [
      "392\n"
     ]
    }
   ],
   "source": [
    "list1 = [12, 75, 150, 180, 145, 525, 50]\n",
    "sum = 0\n",
    "\n",
    "for i in range(0,len(list1)):\n",
    "    if list1[i]%2==0:\n",
    "        sum = sum + list1[i]\n",
    "    else:\n",
    "        pass\n",
    "   \n",
    "print(sum)\n",
    "    "
   ]
  },
  {
   "cell_type": "markdown",
   "metadata": {},
   "source": [
    "# Q24. Write a code to take 3 numbers as an input from the user and display the greatest no as output."
   ]
  },
  {
   "cell_type": "code",
   "execution_count": 38,
   "metadata": {},
   "outputs": [
    {
     "name": "stdout",
     "output_type": "stream",
     "text": [
      "Give number 1 45\n",
      "Give number 2 12\n",
      "Give number 3 665\n",
      "665\n"
     ]
    }
   ],
   "source": [
    "num1 = int(input(\"Give number 1 \"))\n",
    "num2 = int(input(\"Give number 2 \"))\n",
    "num3 = int(input(\"Give number 3 \"))\n",
    "\n",
    "if (num1 >= num2) and (num1 >= num3):\n",
    "    largest = num1\n",
    "elif (num2 >= num1) and (num2 >= num3):\n",
    "    largest = num2\n",
    "else:\n",
    "    largest = num3\n",
    "print(largest)"
   ]
  },
  {
   "cell_type": "markdown",
   "metadata": {},
   "source": [
    "# Q25. Write a program to display only those numbers from a list that satisfy the following conditions\n",
    "\n",
    "- The number must be divisible by five\n",
    "\n",
    "- If the number is greater than 150, then skip it and move to the next number\n",
    "\n",
    "- If the number is greater than 500, then stop the loop\n",
    "```\n",
    "numbers = [12, 75, 150, 180, 145, 525, 50]"
   ]
  },
  {
   "cell_type": "code",
   "execution_count": 40,
   "metadata": {},
   "outputs": [
    {
     "name": "stdout",
     "output_type": "stream",
     "text": [
      "75\n",
      "150\n",
      "180\n",
      "145\n",
      "525\n",
      "50\n"
     ]
    }
   ],
   "source": [
    "numbers = [12, 75, 150, 180, 145, 525, 50]\n",
    "\n",
    "for i in numbers:\n",
    "    if i%5 ==0:\n",
    "        print(i)"
   ]
  },
  {
   "cell_type": "code",
   "execution_count": 42,
   "metadata": {},
   "outputs": [
    {
     "name": "stdout",
     "output_type": "stream",
     "text": [
      "12\n",
      "75\n",
      "150\n",
      "145\n",
      "50\n"
     ]
    }
   ],
   "source": [
    "numbers = [12, 75, 150, 180, 145, 525, 50]\n",
    "\n",
    "for i in numbers:\n",
    "    if i>150:\n",
    "        continue\n",
    "    else:\n",
    "        print(i)"
   ]
  },
  {
   "cell_type": "code",
   "execution_count": 44,
   "metadata": {},
   "outputs": [
    {
     "name": "stdout",
     "output_type": "stream",
     "text": [
      "12\n",
      "75\n",
      "150\n",
      "180\n",
      "145\n"
     ]
    }
   ],
   "source": [
    "numbers = [12, 75, 150, 180, 145, 525, 50]\n",
    "\n",
    "for i in numbers:\n",
    "    if i >500:\n",
    "        break\n",
    "    else:\n",
    "        print(i)"
   ]
  },
  {
   "cell_type": "code",
   "execution_count": null,
   "metadata": {},
   "outputs": [],
   "source": []
  }
 ],
 "metadata": {
  "kernelspec": {
   "display_name": "Python 3",
   "language": "python",
   "name": "python3"
  },
  "language_info": {
   "codemirror_mode": {
    "name": "ipython",
    "version": 3
   },
   "file_extension": ".py",
   "mimetype": "text/x-python",
   "name": "python",
   "nbconvert_exporter": "python",
   "pygments_lexer": "ipython3",
   "version": "3.7.6"
  }
 },
 "nbformat": 4,
 "nbformat_minor": 4
}
